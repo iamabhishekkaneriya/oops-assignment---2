{
 "cells": [
  {
   "cell_type": "code",
   "execution_count": 2,
   "id": "cd3001e8-9afe-4fe9-a2e5-175a94b2ff1d",
   "metadata": {},
   "outputs": [
    {
     "data": {
      "text/plain": [
       "'Abstraction is used to hide the internal functionality of the function from the users. The users only interact with the basic implementation of the function, but inner working is hidden. User is familiar with that \"what function does\" but they don\\'t know \"how it does.\" Your car is a great example of abstraction. '"
      ]
     },
     "execution_count": 2,
     "metadata": {},
     "output_type": "execute_result"
    }
   ],
   "source": [
    "#Q1. What is Abstraction in OOps? Explain with an example.\n",
    "#Answer.\n",
    "'''Abstraction is used to hide the internal functionality of the function from the users. The users only interact with the basic implementation of the function, but inner working is hidden. User is familiar with that \"what function does\" but they don't know \"how it does.\" Your car is a great example of abstraction. '''"
   ]
  },
  {
   "cell_type": "code",
   "execution_count": 3,
   "id": "514320a2-98fa-411b-a086-ca2219eb5662",
   "metadata": {},
   "outputs": [
    {
     "data": {
      "text/plain": [
       "'Abstraction is a way of representing some specific data. Encapsulation is a way of hiding the complexity of something and exposing only the parts you wish to expose. For example, if you have a class that has one or more private fields that you use to store the data, then you are in encapsulation.'"
      ]
     },
     "execution_count": 3,
     "metadata": {},
     "output_type": "execute_result"
    }
   ],
   "source": [
    "#Q2. Differentiate between Abstraction and Encapsulation. Explain with an example.\n",
    "#Answer.\n",
    "'''Abstraction is a way of representing some specific data. Encapsulation is a way of hiding the complexity of something and exposing only the parts you wish to expose. For example, if you have a class that has one or more private fields that you use to store the data, then you are in encapsulation.'''"
   ]
  },
  {
   "cell_type": "code",
   "execution_count": 4,
   "id": "82218607-2365-4c79-985d-8eaf01440cf8",
   "metadata": {},
   "outputs": [
    {
     "data": {
      "text/plain": [
       "'Python is not a fully object-oriented programming language but it supports the features like abstract classes and abstraction. We cannot create abstract classes directly in Python, so Python provides a module called abc that provides the infrastructure for defining the base of Abstract Base Classes(ABC).'"
      ]
     },
     "execution_count": 4,
     "metadata": {},
     "output_type": "execute_result"
    }
   ],
   "source": [
    "#Q3. What is abc module in python? Why is it used?\n",
    "#Answer.\n",
    "'''Python is not a fully object-oriented programming language but it supports the features like abstract classes and abstraction. We cannot create abstract classes directly in Python, so Python provides a module called abc that provides the infrastructure for defining the base of Abstract Base Classes(ABC).'''"
   ]
  },
  {
   "cell_type": "code",
   "execution_count": 5,
   "id": "a1da38f4-e194-46e3-a305-642d5703f893",
   "metadata": {},
   "outputs": [
    {
     "data": {
      "text/plain": [
       "'We can achieve data abstraction through Abstract classes and interfaces. '"
      ]
     },
     "execution_count": 5,
     "metadata": {},
     "output_type": "execute_result"
    }
   ],
   "source": [
    "#Q4. How can we achieve data abstraction?\n",
    "#Answer\n",
    "'''We can achieve data abstraction through Abstract classes and interfaces. '''"
   ]
  },
  {
   "cell_type": "code",
   "execution_count": 6,
   "id": "3620dfd3-693e-4a31-97cc-3ed62deb5fd3",
   "metadata": {},
   "outputs": [
    {
     "name": "stdout",
     "output_type": "stream",
     "text": [
      "Abstract Base Class\n",
      "subclass \n"
     ]
    }
   ],
   "source": [
    "#Q5. Can we create an instance of an abstract class? Explain your answer.\n",
    "#Answer.\n",
    "'''Abstract classes are not complete, as they may have some methods that are not defined. So we cannot create an instance or object of an abstract class in Python.'''\n",
    "# Python program invoking a \n",
    "# method using super() \n",
    "\n",
    "import abc \n",
    "from abc import ABC, abstractmethod \n",
    "\n",
    "class R(ABC): \n",
    "\tdef rk(self): \n",
    "\t\tprint(\"Abstract Base Class\") \n",
    "\n",
    "class K(R): \n",
    "\tdef rk(self): \n",
    "\t\tsuper().rk() \n",
    "\t\tprint(\"subclass \") \n",
    "\n",
    "# Driver code \n",
    "r = K() \n",
    "r.rk() \n"
   ]
  },
  {
   "cell_type": "code",
   "execution_count": null,
   "id": "75fb436a-0a28-4373-8ef9-69cb73d1c49b",
   "metadata": {},
   "outputs": [],
   "source": []
  }
 ],
 "metadata": {
  "kernelspec": {
   "display_name": "Python 3 (ipykernel)",
   "language": "python",
   "name": "python3"
  },
  "language_info": {
   "codemirror_mode": {
    "name": "ipython",
    "version": 3
   },
   "file_extension": ".py",
   "mimetype": "text/x-python",
   "name": "python",
   "nbconvert_exporter": "python",
   "pygments_lexer": "ipython3",
   "version": "3.10.8"
  }
 },
 "nbformat": 4,
 "nbformat_minor": 5
}
